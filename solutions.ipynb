{
 "cells": [
  {
   "cell_type": "markdown",
   "metadata": {},
   "source": [
    "# Example converting IDL code to Python using ChatGPT\n",
    "\n",
    "_Author: Rebekah Esmaili, Science and Technology Corp (STC)_\n",
    "\n",
    "This example contains functions used in a program searches a VIIRS DNB image find the closest point to a given latituide-longitude coordinate. We will explore two simpler functions, one that calculates the distance between two points (```realdistance```) and one that calculates the closest point when given an array of data (```areasearch```).\n",
    "\n",
    "Below is an image of our example data. The two boxes are the Daynight Band (DNB) granule (in color) and the search point (in red). We want to find the closet pair of points.\n",
    "\n",
    "![](test_data.png)\n",
    "\n",
    "We will only need a few simple packages to run this example:"
   ]
  },
  {
   "cell_type": "code",
   "execution_count": 179,
   "metadata": {},
   "outputs": [],
   "source": [
    "# import numpy as np\n",
    "# import pandas as pd\n",
    "# import matplotlib.pyplot as plt\n",
    "import h5py\n",
    "import numpy as np\n",
    "import time\n"
   ]
  },
  {
   "cell_type": "markdown",
   "metadata": {},
   "source": [
    "## Exercise 1: Calculate the Distance Between Points\n",
    "\n",
    "Before we convert any code, we need a sample case to compare before/after. Below is some sample text data that I wrote to use to test our function (this was generated using ```test_data.py```). \n",
    "\n",
    "In IDL, this code would look something like this:\n",
    "```IDL\n",
    "geofile = 'data/GDNBO_j01_d20230825_t0700543_e0702188_b29878_c20230825074232550000_oebc_ops.h5'\n",
    "radfile = 'data/SVDNB_j01_d20230825_t0700543_e0702188_b29878_c20230825074447069000_oebc_ops.h5'\n",
    "\n",
    "fid=h5f_open(geofile);\n",
    "lonid=h5d_open(fid,'/All_Data/VIIRS-DNB-GEO_All/Longitude_TC');\n",
    "lon=h5d_read(lonid) &  h5d_close,lonid\n",
    "latid=h5d_open(fid,'/All_Data/VIIRS-DNB-GEO_All/Latitude_TC'); \n",
    "lat=h5d_read(latid) &  h5d_close,latid;\n",
    "h5f_close,fid\n",
    "\n",
    "fid=h5f_open(radfile);\n",
    "radid=h5d_open(fid,'/All_Data/VIIRS-DNB-SDR_All/Radiance');\n",
    "rad=h5d_read(radid) &  h5d_close,radid;\n",
    "h5f_close,fid\n",
    "\n",
    "```\n",
    "\n",
    "Run the code block below to import the data in using Python libraries. We will use it to test our functions."
   ]
  },
  {
   "cell_type": "code",
   "execution_count": 151,
   "metadata": {},
   "outputs": [],
   "source": [
    "# Sample file path/names:\n",
    "geofile = 'data/GDNBO_j01_d20230825_t0700543_e0702188_b29878_c20230825074232550000_oebc_ops.h5'\n",
    "radfile = 'data/SVDNB_j01_d20230825_t0700543_e0702188_b29878_c20230825074447069000_oebc_ops.h5'\n",
    "\n",
    "# Open the sample geo file, extract the lat, lon coordinates\n",
    "# Note: Scaling the grid by 100 to save processing time, for demo purposes only\n",
    "fid = h5py.File(geofile, 'r')\n",
    "lon_viirs = fid['/All_Data/VIIRS-DNB-GEO_All/Longitude_TC'][:,:]\n",
    "lat_viirs = fid['/All_Data/VIIRS-DNB-GEO_All/Latitude_TC'][:,:]\n",
    "\n",
    "# Open the sample radiance file, extract the lat, lon coordinates\n",
    "fid_rad = h5py.File(radfile, 'r')\n",
    "rad_viirs = fid_rad['/All_Data/VIIRS-DNB-SDR_All/Radiance'][:,:]"
   ]
  },
  {
   "cell_type": "markdown",
   "metadata": {},
   "source": [
    "The point that we'll search for is:"
   ]
  },
  {
   "cell_type": "code",
   "execution_count": 168,
   "metadata": {},
   "outputs": [],
   "source": [
    "# (lat, lon)\n",
    "targetlat = 53.0\n",
    "targetlon = -78.0"
   ]
  },
  {
   "cell_type": "markdown",
   "metadata": {},
   "source": [
    "As you can see, the dimensions are the same size in the test data. Now, lets use this data to calculate the distance between a two pairs of latitude-longitude coordinates. The function can handle both floats and arrays of floats.\n",
    "\n",
    "In the code block below, rewrite the following IDL function using [ChatGPT](https://chat.openai.com/):\n",
    "\n",
    "```IDL\n",
    "FUNCTION realdistance,lat1,lon1,lat2,lon2\n",
    ";return real earth distance in km\n",
    "\tPI=3.14159d\n",
    "\ttemp=0.0d\n",
    "\tearth_radius=6378.0d ; //km\n",
    "\t\t;convert all to radians:\n",
    "\t\ttmplat1=double(lat1*PI/180.0);\n",
    "\t\ttmplon1=double(lon1*PI/180.0);\n",
    "\t\ttmplat2=double(lat2*PI/180.0);\n",
    "\t\ttmplon2=double(lon2*PI/180.0);\n",
    "\n",
    "\t\ttemp=sin(tmplat1)*sin(tmplat2) + cos(tmplat1)*cos(tmplat2)*cos(tmplon2-tmplon1);\n",
    "\t\ttemp=acos(temp);\n",
    "\t\ttemp=temp*earth_radius;\n",
    "return, temp;\n",
    "END\n",
    "```\n",
    "\n",
    "***Solution:***\n"
   ]
  },
  {
   "cell_type": "code",
   "execution_count": 114,
   "metadata": {},
   "outputs": [],
   "source": [
    "def realdistance(lat1, lon1, lat2, lon2):\n",
    "    PI = np.pi\n",
    "    earth_radius = 6378.0  # km\n",
    "    tmplat1 = np.radians(lat1)\n",
    "    tmplon1 = np.radians(lon1)\n",
    "    tmplat2 = np.radians(lat2)\n",
    "    tmplon2 = np.radians(lon2)\n",
    "    temp = np.sin(tmplat1) * np.sin(tmplat2) + np.cos(tmplat1) * np.cos(tmplat2) * np.cos(tmplon2 - tmplon1)\n",
    "    temp = np.arccos(temp)\n",
    "    temp = temp * earth_radius\n",
    "    return temp"
   ]
  },
  {
   "cell_type": "markdown",
   "metadata": {},
   "source": [
    "Now, let's test our function using our example data we imported earlier data (```lat1```, ```lon1```, ```lon1```, ```lon2```). \n",
    "\n",
    "Part of testing larger scripts is breaking them down into smaller bite sized peices and test/validate. Run the code block below to see if the function works correctly using the lat/lon arrays with three different values."
   ]
  },
  {
   "cell_type": "code",
   "execution_count": 152,
   "metadata": {},
   "outputs": [
    {
     "name": "stdout",
     "output_type": "stream",
     "text": [
      "Coordiantes: 56.144375 -95.91549 56.97664 -78.2857\n",
      "Distances: 1082.3663195163854 km\n"
     ]
    }
   ],
   "source": [
    "distances = realdistance(lat[0,0], lon[0,0], pt[0], pt[1])\n",
    "\n",
    "print(\"Coordiantes:\", lat[0,0], lon[0,0], pt[0], pt[1])\n",
    "print(\"Distances:\", distances, \"km\")"
   ]
  },
  {
   "cell_type": "markdown",
   "metadata": {},
   "source": [
    "It's also a good idea to time your functions when converting from IDL to python. We can use the time function in the time library to determine the start/end processing time in seconds:"
   ]
  },
  {
   "cell_type": "code",
   "execution_count": 184,
   "metadata": {},
   "outputs": [
    {
     "name": "stdout",
     "output_type": "stream",
     "text": [
      "Computing time: 0.222883939743042 seconds\n"
     ]
    }
   ],
   "source": [
    "start_time = time.time()\n",
    "d = realdistance(lat_viirs, lon_viirs, targetlat, targetlon)\n",
    "end_time = time.time()\n",
    "print(\"Computing time:\", end_time - start_time, \"seconds\")"
   ]
  },
  {
   "cell_type": "markdown",
   "metadata": {},
   "source": [
    "## Example 2: Calculate the Orbital intersection where two gridpoints overlap \n",
    "\n",
    "Now that we have tested the distance function, let's convert an IDL function that uses ```realdistance```. The function below calculates the radiance at the point closest to the provided one. It's longer than the last one, so we'll break it down into part 1 and part 2.\n",
    "\n",
    "```IDL\n",
    "PRO areasearch, lat, lon, rad, targetlat, targetlon\n",
    "\n",
    "    ; ============== Part 1 ==============\n",
    "\n",
    "    ; to reduce looping, see if the granule even contains the point,\n",
    "    ; if not, continue to next file\n",
    "    ; Searching in quarter degree\n",
    "    x=where(abs(lat-targetlat) LE 0.125)\n",
    "    if x(0) eq -1 then begin\n",
    "            print, 'Not found.'\n",
    "            continue \n",
    "    endif\n",
    "\n",
    "    ; calculate the distance between the remaining points\n",
    "    d=realdistance(lat(x),lon(x),targetlat,targetlon);\n",
    "\n",
    "    ; check if any of the remaining points are within 1km of the \n",
    "    ; given point\n",
    "    xind=where(d LE 1.0); \n",
    "    if (xind(0) eq -1) then begin\n",
    "        print, 'Not found'\n",
    "        continue \n",
    "    endif\n",
    "\n",
    "    ; ============== Part 2 ==============\n",
    "\n",
    "    ; The indices of all matches\n",
    "    x1=x(xind);\n",
    "\n",
    "    ; Find the max radiance value within the closest points\n",
    "    mx=max(rad(x1),location); \n",
    "    ind= ARRAY_INDICES(rad, x1(location))\n",
    "\n",
    "    I0=ind(0);\n",
    "    J0=ind(1);\n",
    "    rad0=mx;\n",
    "    offset=1\n",
    "    i1=I0-offset\n",
    "    i2=I0+offset\n",
    "    j1=j0-offset\n",
    "    j2=j0+offset\n",
    "    low=0\t   \n",
    "    high=768\n",
    "    width=4064\n",
    "\n",
    "\t;make sure it is not on the edge:\n",
    "\tif ((i1 ge low) and (i1 lt width) and (i2 ge low) and (i2 lt width)$\n",
    "             and (j1 ge low) and (j1 lt high) and (j2 ge low) and (j2 lt high)) then begin\n",
    "\n",
    "        ;compute the total radiance within a rectangle around the brightest pixel\n",
    "        radarea=total(rad(i1:i2,j1:j2))\n",
    "\n",
    "        ;compute the min radiance within a rectangle around the brightest pixel\n",
    "        minrad=Min(rad(i1:i2,j1:j2)) \n",
    "        \n",
    "        ;compute the min radiance within a rectangle around the brightest pixel\n",
    "        targetDist=realdistance(lat(I0,J0),lon(I0,J0),targetlat,targetlon);\n",
    "\n",
    "\t\tprint,\"Found.\"\n",
    "\t\tprint, minrad, radarea, targetDist;\n",
    "\n",
    "    endif\n",
    "END\n",
    "\n",
    "\n",
    "```\n",
    "\n",
    "Copy/paste the code in Part 1 into ChatGPT. Enter the results below."
   ]
  },
  {
   "cell_type": "code",
   "execution_count": 312,
   "metadata": {},
   "outputs": [],
   "source": [
    "# start_time = time.time()\n",
    "\n",
    "# Searching in one-degree range\n",
    "x = np.where(np.abs(lat_viirs - targetlat) <= 1.0)\n",
    "\n",
    "# Calculate the distance between the points within one degree\n",
    "d = realdistance(lat_viirs[x], lon_viirs[x], targetlat, targetlon)\n",
    "\n",
    "# Check if any of the remaining points are within 1km of the \n",
    "# target point\n",
    "xind = np.where(d <= 1.0)\n",
    "\n",
    "# end_time = time.time()\n",
    "# print(\"Computing time:\", end_time - start_time, \"seconds\")"
   ]
  },
  {
   "cell_type": "markdown",
   "metadata": {},
   "source": [
    "Next, let's tackle part 2. This part finds the total and minimum radiance around the given point. Try to run the code as-is... does it work?"
   ]
  },
  {
   "cell_type": "code",
   "execution_count": 317,
   "metadata": {},
   "outputs": [
    {
     "name": "stdout",
     "output_type": "stream",
     "text": [
      "Found.\n",
      "3.380527e-10 5.323567e-09 1857.460479965974 49.614746 -51.699883 53.0 -78.0\n"
     ]
    }
   ],
   "source": [
    "# Find the max radiance value within the closest points\n",
    "mx = np.max(rad_viirs[x1])\n",
    "location = np.argmax(rad_viirs[x1])\n",
    "\n",
    "# Use the location of the maximum pixel to find all neighboring points\n",
    "ind = np.unravel_index(location, rad_viirs.shape)\n",
    "I0 = ind[0]\n",
    "J0 = ind[1]\n",
    "offset = 1\n",
    "i1 = I0 - offset\n",
    "i2 = I0 + offset\n",
    "j1 = J0 - offset\n",
    "j2 = J0 + offset\n",
    "\n",
    "# Make sure the points are within\n",
    "low = 0\t   \n",
    "height = 768\n",
    "width = 4064\n",
    "\n",
    "# Make sure it is not on the edge\n",
    "if (low <= i1 < height) and (low <= i2 < height) and (low <= j1 < width) and (low <= j2 < width):\n",
    "    # Compute the total radiance within a rectangle around the brightest pixel\n",
    "    radarea = np.sum(rad_viirs[i1:i2+1, j1:j2+1])\n",
    "\n",
    "    # Compute the min radiance within a rectangle around the brightest pixel\n",
    "    minrad = np.min(rad_viirs[i1:i2+1, j1:j2+1]) \n",
    "\n",
    "    # Compute the min radiance within a rectangle around the brightest pixel\n",
    "    targetDist = realdistance(lat_viirs[I0, J0], lon_viirs[I0, J0], targetlat, targetlon)\n",
    "\n",
    "    print(\"Found.\")\n",
    "    print(minrad, radarea, targetDist, lat_viirs[I0, J0], lon_viirs[I0, J0], targetlat, targetlon)\n"
   ]
  },
  {
   "cell_type": "markdown",
   "metadata": {},
   "source": [
    "The code *techincally* works, but the distance is very far. So there was an index error.\n",
    "\n",
    "The first error takes place in\n",
    "\n",
    "```\n",
    "# The indices of all matches\n",
    "x1 = x[0][xind]\n",
    "\n",
    "# Find the max radiance value within the closest points\n",
    "mx = np.max(rad_viirs[x1])\n",
    "location = np.argmax(rad_viirs[x1])\n",
    "```\n",
    "\n",
    "The above code fails at the ```mx = np.max(rad_viirs[x1])``` because x1 is a 1D index but rad_viirs is 2D.\n",
    "\n",
    "\n",
    "Problem #1: ChatGPT incorrectly converted the IDL expression ```x1=x(xind);```. Here's a simple test. We want the index where the distance is the MIMIMUM value, right? We can check this. Let's print d[xind] and d[x1] and see if the distance is small. You'll see that xind correctly prints zeros (below zero km apart from the target point) whereas x1 is much further."
   ]
  },
  {
   "cell_type": "code",
   "execution_count": 315,
   "metadata": {},
   "outputs": [
    {
     "name": "stdout",
     "output_type": "stream",
     "text": [
      "distances (km) with xind : [0. 0. 0. 0. 0. 0. 0. 0. 0. 0. 0. 0. 0. 0. 0. 0. 0.]\n",
      "distances (km) with x1: [1048.502  1048.502  1049.194  1049.194  1049.194  1049.8716 1049.8716\n",
      " 1049.8716 1050.5558 1050.5558 1050.5558 1050.5558 1050.5558 1050.5558\n",
      " 1051.2488 1051.2488 1051.9807]\n"
     ]
    }
   ],
   "source": [
    "print(\"distances (km) with xind :\", d[xind])\n",
    "print(\"distances (km) with x1:\", d[x1])"
   ]
  },
  {
   "cell_type": "code",
   "execution_count": 277,
   "metadata": {},
   "outputs": [],
   "source": [
    "# Get the max value of the radiance in the search box:\n",
    "mx = np.max(rad_viirs[x][xind])\n",
    "location = np.argmax(rad_viirs[x][xind])"
   ]
  },
  {
   "cell_type": "markdown",
   "metadata": {},
   "source": [
    "Update your code below with the fix:"
   ]
  },
  {
   "cell_type": "code",
   "execution_count": 320,
   "metadata": {},
   "outputs": [],
   "source": [
    "# Find the max radiance value within the closest points\n",
    "mx = np.max(rad_viirs[x][xind])\n",
    "location = np.argmax(rad_viirs[x][xind])\n",
    "ind = np.unravel_index(location, rad_viirs.shape)\n",
    "\n",
    "# Use the location of the maximum pixel to find all neighboring points\n",
    "I0 = ind[0]\n",
    "J0 = ind[1]\n",
    "offset = 1\n",
    "i1 = I0 - offset\n",
    "i2 = I0 + offset\n",
    "j1 = J0 - offset\n",
    "j2 = J0 + offset\n",
    "\n",
    "# Make sure the points are inside the swath\n",
    "low = 0\t   \n",
    "height = 768\n",
    "width = 4064\n",
    "\n",
    "# Make sure it is not on the edge\n",
    "if (low <= i1 < height) and (low <= i2 < height) and (low <= j1 < width) and (low <= j2 < width):\n",
    "    # Compute the total radiance within a rectangle around the brightest pixel\n",
    "    radarea = np.sum(rad_viirs[i1:i2+1, j1:j2+1])\n",
    "\n",
    "    # Compute the min radiance within a rectangle around the brightest pixel\n",
    "    minrad = np.min(rad_viirs[i1:i2+1, j1:j2+1]) \n",
    "\n",
    "    # Compute the min radiance within a rectangle around the brightest pixel\n",
    "    targetDist = realdistance(lat_viirs[I0, J0], lon_viirs[I0, J0], targetlat, targetlon)\n",
    "\n",
    "    print(\"Found.\")\n",
    "    print(minrad, radarea, targetDist, lat_viirs[I0, J0], lon_viirs[I0, J0], targetlat, targetlon)\n"
   ]
  },
  {
   "cell_type": "markdown",
   "metadata": {},
   "source": [
    "There was no error, but there was also no output! The print statement is inside the if statement, so we need to see why it didn't trigger. Let's print the if statement:"
   ]
  },
  {
   "cell_type": "code",
   "execution_count": 321,
   "metadata": {},
   "outputs": [
    {
     "data": {
      "text/plain": [
       "(False, True, True, True)"
      ]
     },
     "execution_count": 321,
     "metadata": {},
     "output_type": "execute_result"
    }
   ],
   "source": [
    "(low <= i1 < height), (low <= i2 < height), (low <= j1 < width), (low <= j2 < width)"
   ]
  },
  {
   "cell_type": "markdown",
   "metadata": {},
   "source": [
    "We see the first condition failed, let's print the values:"
   ]
  },
  {
   "cell_type": "code",
   "execution_count": 322,
   "metadata": {},
   "outputs": [
    {
     "name": "stdout",
     "output_type": "stream",
     "text": [
      "0 12\n",
      "-1 1 11 13\n"
     ]
    }
   ],
   "source": [
    "print(I0, J0)\n",
    "print(i1, i2, j1, j2)"
   ]
  },
  {
   "cell_type": "markdown",
   "metadata": {},
   "source": [
    "From above, you'll see i1 is -1, which is not a permitted index in Python. The resulting indices are negative, and IDL has different index behavior than Python. \"In IDL 8.0 however, a negative index is allowed, which will lead to the last element of the array being accessed, perhaps unintentionally, with no error thrown.\" In python, an error is thrown.\n",
    "\n",
    "Problem #2: ChatGPT incorrectly converted the index from unravel_indices.\n",
    "\n",
    "Similar to the previous problem, the returned indices are from the smaller, 1D array and not from the full-sized array.\n",
    "\n",
    "* IDL's ```ARRAY_INDICES(Array, Index [, /DIMENSIONS] )``` function converts one-dimensional subscripts of an array into corresponding multi-dimensional subscripts.\n",
    "\n",
    "* Python's ``np.unravel_index(indices, shape)`` function converts a flat index or array of flat indices into a tuple of coordinate arrays.\n",
    "\n",
    "The fix is below, and it doesn't resemble the IDL code at all. We have to return to the purpose of the code: we want to find the index where the radiance is maximum within the closest points.\n",
    "\n",
    "Below, we create a mask that has three conditions:\n",
    "1. Determine index where radiance == maximum radiance\n",
    "2. Determine index where latitude == latitude @ maximum radiance\n",
    "3. Determine index where longitude == longitude @ maximum radiance\n",
    "\n",
    "The resulting ```I0, J0``` are the corresponding indices in the original 2D array"
   ]
  },
  {
   "cell_type": "code",
   "execution_count": 324,
   "metadata": {},
   "outputs": [],
   "source": [
    "# Fix the neighboring points\n",
    "mask = (rad_viirs == rad_viirs[x][xind][location]) & (lon_viirs == lon_viirs[x][xind][location]) & (lat_viirs == lat_viirs[x][xind][location])\n",
    "I0, J0 = np.where(mask)[0].item(), np.where(mask)[1].item()"
   ]
  },
  {
   "cell_type": "markdown",
   "metadata": {},
   "source": [
    "Let's check the output:"
   ]
  },
  {
   "cell_type": "code",
   "execution_count": 325,
   "metadata": {},
   "outputs": [
    {
     "name": "stdout",
     "output_type": "stream",
     "text": [
      "404 406 1408 1410\n"
     ]
    }
   ],
   "source": [
    "i1=I0-offset\n",
    "i2=I0+offset\n",
    "j1=J0-offset\n",
    "j2=J0+offset\n",
    "\n",
    "print(i1, i2, j1, j2)"
   ]
  },
  {
   "cell_type": "markdown",
   "metadata": {},
   "source": [
    "The rest of code works as expected. Let's put the pieces together:"
   ]
  },
  {
   "cell_type": "code",
   "execution_count": 302,
   "metadata": {},
   "outputs": [
    {
     "name": "stdout",
     "output_type": "stream",
     "text": [
      "Found.\n",
      "3.171985e-11 2.942829e-09 1.0960519464499483 52.995228 -77.991 53.0 -78.0\n"
     ]
    }
   ],
   "source": [
    "# Find the max radiance value within the closest points\n",
    "mx = np.max(rad_viirs[x][xind])\n",
    "location = np.argmax(rad_viirs[x][xind])\n",
    "\n",
    "# Fix the neighboring points\n",
    "mask = (rad_viirs == rad_viirs[x][xind][location]) & (lon_viirs == lon_viirs[x][xind][location]) & (lat_viirs == lat_viirs[x][xind][location])\n",
    "I0, J0 = np.where(mask)[0].item(), np.where(mask)[1].item()\n",
    "\n",
    "offset = 1\n",
    "#  IDL variables are not case sensitive, Python variables are!\n",
    "i1 = I0 - offset\n",
    "i2 = I0 + offset\n",
    "j1 = J0 - offset\n",
    "j2 = J0 + offset\n",
    "\n",
    "low = 0\n",
    "width = 4064\n",
    "height = 768\n",
    "\n",
    "# Make sure it is not on the edge:\n",
    "if (low <= i1 < height) and (low <= i2 < height) and (low <= j1 < width) and (low <= j2 < width):\n",
    "\n",
    "    # Compute the total radiance within a rectangle around the brightest pixel\n",
    "    radarea = np.sum(rad_viirs[i1:i2+1, j1:j2+1])\n",
    "    # Compute the min radiance within a rectangle around the brightest pixel\n",
    "    minrad = np.min(rad_viirs[i1:i2+1, j1:j2+1])\n",
    "\n",
    "    radarea = np.sum(rad_viirs[x][xind])\n",
    "    # Compute the min radiance within a rectangle around the brightest pixel\n",
    "    minrad = np.min(rad_viirs[x][xind])\n",
    "\n",
    "    targetDist = realdistance(lat_viirs[I0, J0], lon_viirs[I0, J0], targetlat, targetlon)\n",
    "    print(\"Found.\")\n",
    "\n",
    "    print(minrad, radarea, targetDist, lat_viirs[I0, J0], lon_viirs[I0, J0], targetlat, targetlon)"
   ]
  },
  {
   "cell_type": "markdown",
   "metadata": {},
   "source": [
    "Success! We calcualted the radiances at the closest point. The resulting VIIRS coordiantes (52.995228N, 77.991W) is within 1.09 km of the provided point.\n",
    "\n",
    "## Best Practices\n",
    "\n",
    "In conclusion, here are some recommendations and challenges illustrated by this example:\n",
    "\n",
    "1. ChatGPT provides an excellent first guess of the code, but expect to refine the code.\n",
    "2. Legacy code often requires some clean-up, build in time to remove usused code, unnecesary variables, etc.\n",
    "3. Fast Python code avoids loops and uses optimized built-in functions, like those in NumPy.\n",
    "4. Use test data to check if the output in Python matches in the output in IDL"
   ]
  },
  {
   "cell_type": "code",
   "execution_count": 8,
   "metadata": {},
   "outputs": [],
   "source": [
    "def get_getlatlon(filename, spacing):\n",
    "    grpname = 'All_Data/VIIRS-IMG-GEO_All/'\n",
    "\n",
    "    fid = h5py.File(filename, \"r\")\n",
    "    lat = fid[grpname+'Latitude'][::spacing, ::spacing]\n",
    "    lon = fid[grpname+'Longitude'][::spacing, ::spacing]\n",
    "\n",
    "    return lat, lon"
   ]
  },
  {
   "cell_type": "code",
   "execution_count": 9,
   "metadata": {},
   "outputs": [],
   "source": [
    "filenames = [\"GIMGO_j01_d20230815_t0152152_e0153398_b29733_c20230815022929302000_oeac_ops.h5\", \"GIMGO_j01_d20230815_t1440238_e1441484_b29740_c20230815150608044000_oeac_ops.h5\"]\n",
    "for i, filename in enumerate(filenames):\n",
    "    lat1, lon1 = get_getlatlon(filename,100)\n",
    "    oname = \"viirs\"+str(i)\n",
    "\n",
    "    np.savetxt(f'{oname}_lat.tsv', lat1, delimiter='\\t')\n",
    "    np.savetxt(f'{oname}_lon.tsv', lon1, delimiter='\\t')"
   ]
  },
  {
   "cell_type": "code",
   "execution_count": 8,
   "metadata": {},
   "outputs": [],
   "source": [
    "import numpy as np\n",
    "import matplotlib.pyplot as plt\n",
    "from matplotlib.patches import Polygon\n",
    "import cartopy.crs as ccrs\n",
    "import matplotlib.patches as mpatches\n",
    "import matplotlib.ticker as mticker\n",
    "from cartopy.mpl.gridliner import LONGITUDE_FORMATTER, LATITUDE_FORMATTER"
   ]
  },
  {
   "cell_type": "code",
   "execution_count": 46,
   "metadata": {},
   "outputs": [],
   "source": [
    "fig = plt.figure(figsize=[8,8])\n",
    "ax = plt.axes(projection=ccrs.PlateCarree())\n",
    "\n",
    "xx = lon.flatten()\n",
    "yy = lat.flatten()\n",
    "\n",
    "# VIIRS\n",
    "xx = lon.flatten()\n",
    "yy = lat.flatten()\n",
    "zz = rad.flatten()\n",
    "tmp_rad = ax.scatter(xx[::1000], yy[::1000], c=zz[::1000], transform=ccrs.PlateCarree(), s=0.5)\n",
    "# plt.colorbar(tmp_rad)\n",
    "\n",
    "\n",
    "# Search point\n",
    "ax.scatter(-71.55289, 51.44279, color='red', label='Search Point', transform=ccrs.PlateCarree())\n",
    "\n",
    "# Set map features\n",
    "ax.set_extent([-100, 0, 40, 65], ccrs.PlateCarree())  # Adjust the extent for Canada\n",
    "\n",
    "# ax.set_global()\n",
    "ax.coastlines()\n",
    "ax.gridlines()\n",
    "\n",
    "# Add gridlines with lat/lon labels\n",
    "gl = ax.gridlines(draw_labels=True, linestyle='--', color='gray')\n",
    "gl.xformatter = LONGITUDE_FORMATTER\n",
    "gl.yformatter = LATITUDE_FORMATTER\n",
    "\n",
    "ax.set_aspect('equal', adjustable='datalim')\n",
    "ax.legend()\n",
    "plt.savefig('test_data.png')\n",
    "plt.close()"
   ]
  },
  {
   "cell_type": "code",
   "execution_count": null,
   "metadata": {},
   "outputs": [
    {
     "data": {
      "text/plain": [
       "array([[27.007751, 26.965017, 26.922995, ..., 22.943195, 22.802568,\n",
       "        22.645555],\n",
       "       [26.669699, 26.627338, 26.585693, ..., 22.61647 , 22.475872,\n",
       "        22.318962],\n",
       "       [26.331934, 26.289944, 26.24867 , ..., 22.29025 , 22.149817,\n",
       "        21.993084],\n",
       "       ...,\n",
       "       [22.744867, 22.697515, 22.651915, ..., 18.786716, 18.653826,\n",
       "        18.505775],\n",
       "       [22.407019, 22.36005 , 22.31483 , ..., 18.457897, 18.324957,\n",
       "        18.176882],\n",
       "       [22.069422, 22.022827, 21.977983, ..., 18.129663, 17.996769,\n",
       "        17.848766]], dtype=float32)"
      ]
     },
     "execution_count": 157,
     "metadata": {},
     "output_type": "execute_result"
    }
   ],
   "source": [
    "lat1"
   ]
  },
  {
   "cell_type": "code",
   "execution_count": 96,
   "metadata": {},
   "outputs": [
    {
     "name": "stdout",
     "output_type": "stream",
     "text": [
      "8922\n",
      "1\n"
     ]
    },
    {
     "ename": "IndexError",
     "evalue": "too many indices for array: array is 1-dimensional, but 2 were indexed",
     "output_type": "error",
     "traceback": [
      "\u001b[1;31m---------------------------------------------------------------------------\u001b[0m",
      "\u001b[1;31mIndexError\u001b[0m                                Traceback (most recent call last)",
      "Cell \u001b[1;32mIn[96], line 23\u001b[0m\n\u001b[0;32m     19\u001b[0m xind \u001b[39m=\u001b[39m np\u001b[39m.\u001b[39mwhere(d \u001b[39m<\u001b[39m\u001b[39m=\u001b[39m \u001b[39m1.0\u001b[39m)\n\u001b[0;32m     21\u001b[0m \u001b[39mprint\u001b[39m(xind[\u001b[39m0\u001b[39m]\u001b[39m.\u001b[39msize)\n\u001b[1;32m---> 23\u001b[0m x1 \u001b[39m=\u001b[39m x[\u001b[39m0\u001b[39;49m][xind]\n\u001b[0;32m     25\u001b[0m x1_location \u001b[39m=\u001b[39m np\u001b[39m.\u001b[39munravel_index(x1[\u001b[39m0\u001b[39m], rad\u001b[39m.\u001b[39mshape)\n\u001b[0;32m     26\u001b[0m I0, J0 \u001b[39m=\u001b[39m x1_location\n",
      "\u001b[1;31mIndexError\u001b[0m: too many indices for array: array is 1-dimensional, but 2 were indexed"
     ]
    }
   ],
   "source": [
    "targetlat = 51.464645\n",
    "targetlon = -71.55955\n",
    "lon_grid = lon[::10,::10]\n",
    "lat_grid = lat[::10,::10]\n",
    "rad_grid = rad[::10,::10]\n",
    "\n",
    "# See if there's a close latitude\n",
    "x = np.where(np.abs(lat_grid - targetlat) <= 1.0)\n",
    "print(x[0].size)\n",
    "\n",
    "if x[0].size == 0:\n",
    "\n",
    "# See if there's a close latitude\n",
    "\n",
    "d = realdistance(lat_grid, lon_grid, targetlat, targetlon)\n",
    "xind = np.where(d <= 1.0)\n",
    "\n",
    "print(xind[0].size)\n",
    "\n",
    "x1 = x[0][xind]\n",
    "\n",
    "x1_location = np.unravel_index(x1[0], rad.shape)\n",
    "I0, J0 = x1_location\n",
    "rad0 = rad[I0, J0]\n",
    "offset = 1\n",
    "i1, i2 = I0 - offset, I0 + offset\n",
    "j1, j2 = J0 - offset, J0 + offset\n",
    "low, high = 0, 768\n",
    "width = 4064\n",
    "\n",
    "if (low <= i1 < width) and (low <= i2 < width) and (low <= j1 < high) and (low <= j2 < high):\n",
    "    radarea = np.sum(rad[i1:i2+1, j1:j2+1])\n",
    "    minrad = np.min(rad[i1:i2+1, j1:j2+1])\n",
    "    targetDist = realdistance(lat_grid[I0, J0], lon_grid[I0, J0], targetlat, targetlon)\n",
    "    print(lat_grid[I0, J0], lon_grid[I0, J0], targetDist)\n",
    "\n",
    "# areasearch(-78.2857, -56.97664, lon[::100,::100], lat_grid[::100,::100])\n",
    "\n"
   ]
  },
  {
   "cell_type": "markdown",
   "metadata": {},
   "source": [
    "d = realdistance(lat_grid, lon_grid, targetlat, targetlon)\n"
   ]
  },
  {
   "cell_type": "code",
   "execution_count": 170,
   "metadata": {},
   "outputs": [],
   "source": [
    "d = realdistance(lat_viirs, lon_viirs, targetlat, targetlon)\n"
   ]
  },
  {
   "cell_type": "code",
   "execution_count": 171,
   "metadata": {},
   "outputs": [
    {
     "name": "stderr",
     "output_type": "stream",
     "text": [
      "C:\\Users\\rebekah\\AppData\\Local\\Temp\\ipykernel_36640\\1060365138.py:2: UserWarning: The input coordinates to pcolormesh are interpreted as cell centers, but are not monotonically increasing or decreasing. This may lead to incorrectly calculated cell edges, in which case, please supply explicit cell edges to pcolormesh.\n",
      "  tmp = plt.pcolormesh(lon_viirs[::10,::10], lat_viirs[::10,::10], d[::10,::10])\n"
     ]
    },
    {
     "data": {
      "image/png": "[encoded data removed]",
      "text/plain": [
       "<Figure size 640x480 with 2 Axes>"
      ]
     },
     "metadata": {},
     "output_type": "display_data"
    }
   ],
   "source": [
    "plt.figure()\n",
    "tmp = plt.pcolormesh(lon_viirs[::10,::10], lat_viirs[::10,::10], d[::10,::10])\n",
    "plt.scatter(targetlon, targetlat, c='red')\n",
    "plt.colorbar(tmp)\n",
    "plt.show()"
   ]
  }
 ],
 "metadata": {
  "kernelspec": {
   "display_name": "Python 3",
   "language": "python",
   "name": "python3"
  },
  "language_info": {
   "codemirror_mode": {
    "name": "ipython",
    "version": 3
   },
   "file_extension": ".py",
   "mimetype": "text/x-python",
   "name": "python",
   "nbconvert_exporter": "python",
   "pygments_lexer": "ipython3",
   "version": "3.9.16"
  },
  "orig_nbformat": 4
 },
 "nbformat": 4,
 "nbformat_minor": 2
}

{
 "cells": [
  {
   "cell_type": "markdown",
   "metadata": {},
   "source": [
    "# Example converting IDL code to Python using ChatGPT\n",
    "\n",
    "_Author: Rebekah Esmaili, Science and Technology Corp (STC)_\n",
    "\n",
    "This example contains functions used in a program searches a VIIRS DNB image find the closest point to a given latituide-longitude coordinate. We will explore two simpler functions, one that calculates the distance between two points (```realdistance```) and one that calculates the closest point when given an array of data (```areasearch```).\n",
    "\n",
    "Below is an image of our example data. The two boxes are the Daynight Band (DNB) granule (in color) and the search point (in red). We want to find the closet pair of points.\n",
    "\n",
    "![](test_data.png)\n",
    "\n",
    "We will only need a few simple packages to run this example:"
   ]
  },
  {
   "cell_type": "code",
   "execution_count": null,
   "metadata": {},
   "outputs": [],
   "source": [
    "import h5py\n",
    "import numpy as np\n",
    "import time"
   ]
  },
  {
   "cell_type": "markdown",
   "metadata": {},
   "source": [
    "## Exercise 1: Calculate the Distance Between Points\n",
    "\n",
    "We need to import two data files, which are from the [VIIRS Day/Night Band (DNB)](https://rammb.cira.colostate.edu/projects/alaska/blog/index.php/uncategorized/beginning-to-see-the-light-an-introduction-to-viirs-dnb-and-ncc/). The geolocation information is stored in the \"GDNBO\" file while the radiance is stored in the \"SVBNB\" file, so we need both to complete our exercises. The data in are [HDF5](https://www.hdfgroup.org/solutions/hdf5/) format.\n",
    "\n",
    "In IDL, the code to import the data would look something like this:\n",
    "```IDL\n",
    "geofile = 'data/GDNBO_j01_d20230825_t0700543_e0702188_b29878_c20230825074232550000_oebc_ops.h5'\n",
    "radfile = 'data/SVDNB_j01_d20230825_t0700543_e0702188_b29878_c20230825074447069000_oebc_ops.h5'\n",
    "\n",
    "fid=h5f_open(geofile);\n",
    "lonid=h5d_open(fid,'/All_Data/VIIRS-DNB-GEO_All/Longitude_TC');\n",
    "lon=h5d_read(lonid) &  h5d_close,lonid\n",
    "latid=h5d_open(fid,'/All_Data/VIIRS-DNB-GEO_All/Latitude_TC'); \n",
    "lat=h5d_read(latid) &  h5d_close,latid;\n",
    "h5f_close,fid\n",
    "\n",
    "fid=h5f_open(radfile);\n",
    "radid=h5d_open(fid,'/All_Data/VIIRS-DNB-SDR_All/Radiance');\n",
    "rad=h5d_read(radid) &  h5d_close,radid;\n",
    "h5f_close,fid\n",
    "\n",
    "```\n",
    "\n",
    "Copy/paste the IDL code block above into [ChatGPT](https://chat.openai.com/) to import the sample data. We will use the two datasets it to test our functions.\n",
    "\n",
    "**Solution**"
   ]
  },
  {
   "cell_type": "code",
   "execution_count": null,
   "metadata": {},
   "outputs": [],
   "source": []
  },
  {
   "cell_type": "markdown",
   "metadata": {},
   "source": [
    "The point that we'll search for is:"
   ]
  },
  {
   "cell_type": "code",
   "execution_count": null,
   "metadata": {},
   "outputs": [],
   "source": [
    "targetlat = 53.0\n",
    "targetlon = -78.0"
   ]
  },
  {
   "cell_type": "markdown",
   "metadata": {},
   "source": [
    "As you can see, the dimensions are the same size in the test data. Now, lets use this data to calculate the distance between a two pairs of latitude-longitude coordinates. The function can handle both floats and arrays of floats.\n",
    "\n",
    "In the code block below, rewrite the following IDL function using [ChatGPT](https://chat.openai.com/):\n",
    "\n",
    "```IDL\n",
    "FUNCTION realdistance,lat1,lon1,lat2,lon2\n",
    ";return real earth distance in km\n",
    "\tPI=3.14159d\n",
    "\ttemp=0.0d\n",
    "\tearth_radius=6378.0d ; //km\n",
    "\t\t;convert all to radians:\n",
    "\t\ttmplat1=double(lat1*PI/180.0);\n",
    "\t\ttmplon1=double(lon1*PI/180.0);\n",
    "\t\ttmplat2=double(lat2*PI/180.0);\n",
    "\t\ttmplon2=double(lon2*PI/180.0);\n",
    "\n",
    "\t\ttemp=sin(tmplat1)*sin(tmplat2) + cos(tmplat1)*cos(tmplat2)*cos(tmplon2-tmplon1);\n",
    "\t\ttemp=acos(temp);\n",
    "\t\ttemp=temp*earth_radius;\n",
    "return, temp;\n",
    "END\n",
    "```\n",
    "\n",
    "***Solution:***\n"
   ]
  },
  {
   "cell_type": "code",
   "execution_count": null,
   "metadata": {},
   "outputs": [],
   "source": []
  },
  {
   "cell_type": "markdown",
   "metadata": {},
   "source": [
    "Now, let's test our function using our example data we imported earlier data (```lat1```, ```lon1```, ```lon1```, ```lon2```). \n",
    "\n",
    "Part of testing larger scripts is breaking them down into smaller bite sized peices and test/validate. Run the code block below to see if the function works correctly using the lat/lon arrays with three different values."
   ]
  },
  {
   "cell_type": "code",
   "execution_count": null,
   "metadata": {},
   "outputs": [],
   "source": [
    "distances = realdistance(lat_viirs[0,0], lon_viirs[0,0], targetlon, targetlat)\n",
    "\n",
    "print(\"Coordinates:\", lat_viirs[0,0], lon_viirs[0,0], targetlon, targetlat)\n",
    "print(\"Distances:\", distances, \"km\")"
   ]
  },
  {
   "cell_type": "markdown",
   "metadata": {},
   "source": [
    "## Example 2: Get the radiance of pixels neighboring the closest point\n",
    "\n",
    "Now that we have tested the distance function, let's convert an IDL function that uses ```realdistance```. The function below calculates the radiance at the point closest to the provided one. It's longer than the last one, so we'll break it down into part 1 and part 2.\n",
    "\n",
    "```IDL\n",
    "PRO areasearch, lat_viirs, lon_viirs, rad_viirs, targetlat, targetlon\n",
    "\n",
    "    ; ============== Part 1 ==============\n",
    "\n",
    "    ; to reduce looping, see if the granule even contains the point,\n",
    "    ; if not, continue to next file\n",
    "    ; Searching in quarter degree\n",
    "    x=where(abs(lat_viirs-targetlat) LE 0.125)\n",
    "\n",
    "    ; calculate the distance between the remaining points\n",
    "    d=realdistance(lat_viirs(x),lon_viirs(x),targetlat,targetlon);\n",
    "\n",
    "    ; check if any of the remaining points are within 1km of the \n",
    "    ; given point\n",
    "    xind=where(d LE 1.0); \n",
    "\n",
    "    ; ============== Part 2 ==============\n",
    "\n",
    "    ; The indices of all matches\n",
    "    x1=x(xind);\n",
    "\n",
    "    ; Find the max radiance value within the closest points\n",
    "    mx=max(rad_viirs(x1),location); \n",
    "    ind= ARRAY_INDICES(rad_viirs, x1(location))\n",
    "\n",
    "    I0=ind(0);\n",
    "    J0=ind(1);\n",
    "    rad0=mx;\n",
    "    offset=1\n",
    "    i1=I0-offset\n",
    "    i2=I0+offset\n",
    "    j1=j0-offset\n",
    "    j2=j0+offset\n",
    "    low=0\t   \n",
    "    high=768\n",
    "    width=4064\n",
    "\n",
    "\t;make sure it is not on the edge:\n",
    "\tif ((i1 ge low) and (i1 lt width) and (i2 ge low) and (i2 lt width)$\n",
    "             and (j1 ge low) and (j1 lt high) and (j2 ge low) and (j2 lt high)) then begin\n",
    "\n",
    "        ;compute the total radiance within a rectangle around the brightest pixel\n",
    "        radarea=total(rad(i1:i2,j1:j2))\n",
    "\n",
    "        ;compute the min radiance within a rectangle around the brightest pixel\n",
    "        minrad=Min(rad(i1:i2,j1:j2)) \n",
    "        \n",
    "        ;compute the min radiance within a rectangle around the brightest pixel\n",
    "        targetDist=realdistance(lat_viirs(I0,J0),lon_viirs(I0,J0),targetlat,targetlon);\n",
    "\n",
    "\t\tprint,\"Found.\"\n",
    "\t\tprint, minrad, radarea, targetDist;\n",
    "\n",
    "    endif\n",
    "END\n",
    "\n",
    "\n",
    "```\n",
    "\n",
    "### Converting areasearch, Part 1\n",
    "\n",
    "Copy/paste the code in Part 1 into ChatGPT. Enter the results below. I recommend not writing as a function just yet, we want to first test functionality.\n",
    "\n",
    "**Solution**"
   ]
  },
  {
   "cell_type": "code",
   "execution_count": null,
   "metadata": {},
   "outputs": [],
   "source": []
  },
  {
   "cell_type": "markdown",
   "metadata": {},
   "source": [
    "The above code runs without any issues. Note that you'll have to remove conditionals/return statements.\n",
    "\n",
    "### Benchmarking functions\n",
    "The realdistance function would calculate the distances for all points in the lat_viirs and lon_viirs arrays, but by subsetting the arrays with x, the computation time is much faster. The time function in the time library to determine the start/end processing time in seconds. For example:"
   ]
  },
  {
   "cell_type": "code",
   "execution_count": null,
   "metadata": {},
   "outputs": [],
   "source": [
    "start_time = time.time()\n",
    "d = realdistance(lat_viirs, lon_viirs, targetlat, targetlon)\n",
    "end_time = time.time()\n",
    "print(\"Computing time:\", end_time - start_time, \"seconds\")\n",
    "\n",
    "start_time = time.time()\n",
    "d = realdistance(lat_viirs[x], lon_viirs[x], targetlat, targetlon)\n",
    "end_time = time.time()\n",
    "print(\"Computing time:\", end_time - start_time, \"seconds\")"
   ]
  },
  {
   "cell_type": "markdown",
   "metadata": {},
   "source": [
    "It's generally a good idea to time your functions when converting from IDL to python. From above you can see the code that was subsetted was 3.5 times faster, primarilly due to fewer computations. While this speedup is small for one computation, if iterating over a large number of points (e.g., a global day), this can be significant.\n",
    "\n",
    "\n",
    "### Converting areasearch, Part 2\n",
    "Next, let's tackle part 2. This part finds the total and minimum radiance around the given point. Try to run the code as-is... does it work?\n",
    "\n",
    "**Solution**"
   ]
  },
  {
   "cell_type": "code",
   "execution_count": null,
   "metadata": {},
   "outputs": [],
   "source": []
  },
  {
   "cell_type": "markdown",
   "metadata": {},
   "source": [
    "The code *techincally* works, but the distance is very far. So there was an index error.\n",
    "\n",
    "The first error takes place in\n",
    "\n",
    "```\n",
    "# The indices of all matches\n",
    "x1 = x[0][xind]\n",
    "\n",
    "# Find the max radiance value within the closest points\n",
    "mx = np.max(rad_viirs[x1])\n",
    "location = np.argmax(rad_viirs[x1])\n",
    "```\n",
    "\n",
    "The above code fails at the ```mx = np.max(rad_viirs[x1])``` because x1 is a 1D index but rad_viirs is 2D.\n",
    "\n",
    "### Commmon issue #1: ChatGPT incorrectly converts IDL expressions\n",
    "\n",
    "Problem #1: ChatGPT incorrectly converted the IDL expression ```x1=x(xind);```. Here's a simple test. We want the index where the distance is the MIMIMUM value, right? We can check this. Let's print d[xind] and d[x1] and see if the distance is small. You'll see that xind correctly prints zeros (below zero km apart from the target point) whereas x1 is much further."
   ]
  },
  {
   "cell_type": "code",
   "execution_count": null,
   "metadata": {},
   "outputs": [],
   "source": [
    "print(\"distances (km) with xind :\", d[xind])\n",
    "print(\"distances (km) with x1:\", d[x1])"
   ]
  },
  {
   "cell_type": "code",
   "execution_count": null,
   "metadata": {},
   "outputs": [],
   "source": [
    "# Get the max value of the radiance in the search box:\n",
    "mx = np.max(rad_viirs[x][xind])\n",
    "location = np.argmax(rad_viirs[x][xind])"
   ]
  },
  {
   "cell_type": "markdown",
   "metadata": {},
   "source": [
    "Update your code below with the fix:\n",
    "\n",
    "**Solution**"
   ]
  },
  {
   "cell_type": "code",
   "execution_count": null,
   "metadata": {},
   "outputs": [],
   "source": []
  },
  {
   "cell_type": "markdown",
   "metadata": {},
   "source": [
    "There was no error, but there was also no output! The print statement is inside the if statement, so we need to see why it didn't trigger. Let's print the if statement:"
   ]
  },
  {
   "cell_type": "code",
   "execution_count": null,
   "metadata": {},
   "outputs": [],
   "source": [
    "(low <= i1 < height), (low <= i2 < height), (low <= j1 < width), (low <= j2 < width)"
   ]
  },
  {
   "cell_type": "markdown",
   "metadata": {},
   "source": [
    "We see the first condition failed, let's print the values:"
   ]
  },
  {
   "cell_type": "code",
   "execution_count": null,
   "metadata": {},
   "outputs": [],
   "source": [
    "print(I0, J0)\n",
    "print(i1, i2, j1, j2)"
   ]
  },
  {
   "cell_type": "markdown",
   "metadata": {},
   "source": [
    "The points ```i1, i2, j1, j2``` are supposed to be the neighboring pixels next to the closet point.\n",
    "\n",
    "From above, you'll see i1 is -1, which is not a permitted index in Python. The resulting indices are negative, and IDL has different index behavior than Python. \"In IDL 8.0 however, a negative index is allowed, which will lead to the last element of the array being accessed, perhaps unintentionally, with no error thrown.\" In Python, an error is thrown. The if statement prevented this from happening, but if we removed it, there will be an error.\n",
    "\n",
    "### Common Problem #2: ChatGPT incorrectly converted the index\n",
    "ChatGPT incorrectly converted the index from unravel_indices. Similar to the problem #1, the returned indices are from the smaller, 1D array and not from the full-sized array.\n",
    "\n",
    "* IDL's ```ARRAY_INDICES(Array, Index [, /DIMENSIONS] )``` function converts one-dimensional subscripts of an array into corresponding multi-dimensional subscripts.\n",
    "\n",
    "* Python's ``np.unravel_index(indices, shape)`` function converts a flat index or array of flat indices into a tuple of coordinate arrays.\n",
    "\n",
    "The fix is below, and it doesn't resemble the IDL code at all. We have to return to the purpose of the code: we want to find the index where the radiance is maximum within the closest points.\n",
    "\n",
    "Below, we create a mask that has three conditions:\n",
    "1. Determine index where radiance == maximum radiance\n",
    "2. Determine index where latitude == latitude @ maximum radiance\n",
    "3. Determine index where longitude == longitude @ maximum radiance\n",
    "\n",
    "The resulting ```I0, J0``` are the corresponding indices in the original 2D array"
   ]
  },
  {
   "cell_type": "code",
   "execution_count": null,
   "metadata": {},
   "outputs": [],
   "source": [
    "# Fix the neighboring points\n",
    "mask = (rad_viirs == rad_viirs[x][xind][location]) & (lon_viirs == lon_viirs[x][xind][location]) & (lat_viirs == lat_viirs[x][xind][location])\n",
    "I0, J0 = np.where(mask)[0].item(), np.where(mask)[1].item()"
   ]
  },
  {
   "cell_type": "markdown",
   "metadata": {},
   "source": [
    "Let's check the output:"
   ]
  },
  {
   "cell_type": "code",
   "execution_count": null,
   "metadata": {},
   "outputs": [],
   "source": [
    "i1=I0-offset\n",
    "i2=I0+offset\n",
    "j1=J0-offset\n",
    "j2=J0+offset\n",
    "\n",
    "print(i1, i2, j1, j2)"
   ]
  },
  {
   "cell_type": "markdown",
   "metadata": {},
   "source": [
    "The rest of code works as expected. Let's put the pieces together:\n",
    "\n",
    "**Solution**"
   ]
  },
  {
   "cell_type": "code",
   "execution_count": null,
   "metadata": {},
   "outputs": [],
   "source": []
  },
  {
   "cell_type": "markdown",
   "metadata": {},
   "source": [
    "Success! We calcualted the radiances at the closest point. The resulting VIIRS coordiantes (52.995228N, 77.991W) is within 1.09 km of the provided point.\n",
    "\n",
    "## Best Practices\n",
    "\n",
    "In conclusion, here are some recommendations and challenges illustrated by this example:\n",
    "\n",
    "1. ChatGPT provides an excellent first guess of the code, but expect to refine the code.\n",
    "2. Legacy code often requires some clean-up, build in time to remove usused code, unnecesary variables, etc.\n",
    "3. Fast Python code avoids loops and uses optimized built-in functions, like those in NumPy.\n",
    "4. Use test data to check if the output in Python matches in the output in IDL"
   ]
  }
 ],
 "metadata": {
  "kernelspec": {
   "display_name": "Python 3",
   "language": "python",
   "name": "python3"
  },
  "language_info": {
   "codemirror_mode": {
    "name": "ipython",
    "version": 3
   },
   "file_extension": ".py",
   "mimetype": "text/x-python",
   "name": "python",
   "nbconvert_exporter": "python",
   "pygments_lexer": "ipython3",
   "version": "3.9.16"
  },
  "orig_nbformat": 4
 },
 "nbformat": 4,
 "nbformat_minor": 2
}
